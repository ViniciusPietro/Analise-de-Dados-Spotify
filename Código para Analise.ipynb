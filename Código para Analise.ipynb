{
 "cells": [
  {
   "cell_type": "code",
   "execution_count": 2,
   "metadata": {},
   "outputs": [
    {
     "name": "stdout",
     "output_type": "stream",
     "text": [
      "Token Autorizada para 22am6rooejanltf555ip2dhxi\n",
      "Getting user playlist\n",
      "Getting playlist content\n",
      "Getting playlist audio features\n"
     ]
    }
   ],
   "source": [
    "import argparse\n",
    "import pprint\n",
    "import sys\n",
    "import os\n",
    "import json\n",
    "import spotipy\n",
    "import spotipy.util as util\n",
    "import pandas as pd\n",
    "from spotipy.oauth2 import SpotifyClientCredentials\n",
    "\n",
    "client_id= \"a82ef03cc3f44042b0f07c3c9220f175\"\n",
    "client_secret= \"e049de0fb2a94fa9990ca6565ac7a053\"\n",
    "redirect_uri='http://localhost:8888/callback'\n",
    "username='22am6rooejanltf555ip2dhxi'\n",
    "playlist = '15djFUHlAd4UdrNdZ3qbuR'\n",
    "scope = 'user-library-read playlist-read-private'\n",
    "\n",
    "client_credentials_manager = SpotifyClientCredentials(client_id=client_id, client_secret=client_secret)\n",
    "\n",
    "try:\n",
    "    token = util.prompt_for_user_token(username, scope,client_id=client_id, client_secret=client_secret, redirect_uri=redirect_uri)\n",
    "    sp=spotipy.Spotify(auth=token)\n",
    "    print(\"Token Autorizada para \" + username)\n",
    "except:\n",
    "    print('Token não accessível para ' + username)\n",
    "\n",
    "\n",
    "def get_playlist_content(username, playlist_id, sp):\n",
    "    offset = 0\n",
    "    songs = []\n",
    "    while True:\n",
    "        content = sp.user_playlist_tracks(username, playlist_id, fields=None,limit=100, offset=offset, market=None)\n",
    "        songs += content['items']\n",
    "        if content['next'] is not None:\n",
    "            offset += 100\n",
    "        else:\n",
    "            break\n",
    "    with open('{}-{}'.format(username, playlist_id), 'w') as outfile:\n",
    "        json.dump(songs, outfile)\n",
    "\n",
    "def get_playlist_audio_features(username, playlist_id, sp):\n",
    "    offset = 0\n",
    "    songs = []\n",
    "    items = []\n",
    "    ids = []\n",
    "    while True:\n",
    "        content = sp.user_playlist_tracks(username, playlist_id, fields=None, limit=100, offset=offset, market=None)\n",
    "        songs += content['items']\n",
    "        if content['next'] is not None:\n",
    "            offset += 100\n",
    "        else:\n",
    "            break\n",
    "    for i in songs:\n",
    "        ids.append(i['track']['id'])\n",
    "        index = 0\n",
    "        audio_features = []\n",
    "        while index < len(ids):\n",
    "            audio_features += sp.audio_features(ids[index:index + 50])\n",
    "            index += 50\n",
    "            features_list = []\n",
    "            for features in audio_features:\n",
    "                features_list.append([features['energy'], features['liveness'],\n",
    "                features['tempo'], features['speechiness'],\n",
    "                features['acousticness'], features['instrumentalness'],\n",
    "                features['time_signature'], features['danceability'],\n",
    "                features['key'], features['duration_ms'],\n",
    "                features['loudness'], features['valence'],\n",
    "                features['mode'], features['type'],\n",
    "                features['uri']])\n",
    "                df = pd.DataFrame(features_list, columns=['energy', 'liveness',\n",
    "                                                          'tempo', 'speechiness',\n",
    "                                                          'acousticness', 'instrumentalness',\n",
    "                                                          'time_signature', 'danceability',\n",
    "                                                          'key', 'duration_ms', 'loudness',\n",
    "                                                          'valence', 'mode', 'type', 'uri'])\n",
    "                df.to_csv('{}-{}.csv'.format(username, playlist_id), index=False)\n",
    "\n",
    "def get_user_playlist(username, sp):\n",
    "    playlists = sp.user_playlists(username)\n",
    "    for playlist in playlists['items']:\n",
    "        print(\"Name: {}, Number of songs: {}, Playlist ID: {} \".\n",
    "        format(playlist['name'].encode('utf8'),\n",
    "        playlist['tracks']['total'],\n",
    "        playlist['id']))\n",
    "        \n",
    "def main(username, playlist):\n",
    "    sp = spotipy.Spotify(client_credentials_manager=client_credentials_manager)\n",
    "    print (\"Getting user playlist\")\n",
    "    get_user_playlist(username, sp)\n",
    "    print (\"Getting playlist content\")\n",
    "    get_playlist_content(username, playlist, sp)\n",
    "    print (\"Getting playlist audio features\")\n",
    "    get_playlist_audio_features(username, playlist, sp)\n",
    "\n",
    "main(username, playlist)"
   ]
  },
  {
   "cell_type": "code",
   "execution_count": 3,
   "metadata": {},
   "outputs": [],
   "source": [
    "filename = 'Dados ForGame.csv'\n",
    "df = pd.read_csv(filename)"
   ]
  },
  {
   "cell_type": "code",
   "execution_count": 4,
   "metadata": {},
   "outputs": [
    {
     "data": {
      "text/plain": [
       "(101, 15)"
      ]
     },
     "execution_count": 4,
     "metadata": {},
     "output_type": "execute_result"
    }
   ],
   "source": [
    "df.shape"
   ]
  },
  {
   "cell_type": "code",
   "execution_count": 5,
   "metadata": {},
   "outputs": [
    {
     "data": {
      "text/html": [
       "<div>\n",
       "<style scoped>\n",
       "    .dataframe tbody tr th:only-of-type {\n",
       "        vertical-align: middle;\n",
       "    }\n",
       "\n",
       "    .dataframe tbody tr th {\n",
       "        vertical-align: top;\n",
       "    }\n",
       "\n",
       "    .dataframe thead th {\n",
       "        text-align: right;\n",
       "    }\n",
       "</style>\n",
       "<table border=\"1\" class=\"dataframe\">\n",
       "  <thead>\n",
       "    <tr style=\"text-align: right;\">\n",
       "      <th></th>\n",
       "      <th>energy</th>\n",
       "      <th>liveness</th>\n",
       "      <th>tempo</th>\n",
       "      <th>speechiness</th>\n",
       "      <th>acousticness</th>\n",
       "      <th>instrumentalness</th>\n",
       "      <th>time_signature</th>\n",
       "      <th>danceability</th>\n",
       "      <th>key</th>\n",
       "      <th>duration_ms</th>\n",
       "      <th>loudness</th>\n",
       "      <th>valence</th>\n",
       "      <th>mode</th>\n",
       "    </tr>\n",
       "  </thead>\n",
       "  <tbody>\n",
       "    <tr>\n",
       "      <th>count</th>\n",
       "      <td>101.000000</td>\n",
       "      <td>101.000000</td>\n",
       "      <td>101.000000</td>\n",
       "      <td>101.000000</td>\n",
       "      <td>101.000000</td>\n",
       "      <td>101.000000</td>\n",
       "      <td>101.000000</td>\n",
       "      <td>101.000000</td>\n",
       "      <td>101.000000</td>\n",
       "      <td>101.000000</td>\n",
       "      <td>101.000000</td>\n",
       "      <td>101.000000</td>\n",
       "      <td>101.000000</td>\n",
       "    </tr>\n",
       "    <tr>\n",
       "      <th>mean</th>\n",
       "      <td>0.710772</td>\n",
       "      <td>0.167692</td>\n",
       "      <td>120.021723</td>\n",
       "      <td>0.094241</td>\n",
       "      <td>0.144698</td>\n",
       "      <td>0.004914</td>\n",
       "      <td>3.930693</td>\n",
       "      <td>0.637805</td>\n",
       "      <td>6.267327</td>\n",
       "      <td>213490.534653</td>\n",
       "      <td>-5.348040</td>\n",
       "      <td>0.479755</td>\n",
       "      <td>0.326733</td>\n",
       "    </tr>\n",
       "    <tr>\n",
       "      <th>std</th>\n",
       "      <td>0.157274</td>\n",
       "      <td>0.121040</td>\n",
       "      <td>29.982783</td>\n",
       "      <td>0.084433</td>\n",
       "      <td>0.194245</td>\n",
       "      <td>0.024640</td>\n",
       "      <td>0.324266</td>\n",
       "      <td>0.155866</td>\n",
       "      <td>3.390844</td>\n",
       "      <td>31653.372960</td>\n",
       "      <td>1.801177</td>\n",
       "      <td>0.235665</td>\n",
       "      <td>0.471358</td>\n",
       "    </tr>\n",
       "    <tr>\n",
       "      <th>min</th>\n",
       "      <td>0.172000</td>\n",
       "      <td>0.035300</td>\n",
       "      <td>49.452000</td>\n",
       "      <td>0.025300</td>\n",
       "      <td>0.000235</td>\n",
       "      <td>0.000000</td>\n",
       "      <td>3.000000</td>\n",
       "      <td>0.099300</td>\n",
       "      <td>0.000000</td>\n",
       "      <td>138592.000000</td>\n",
       "      <td>-11.618000</td>\n",
       "      <td>0.039900</td>\n",
       "      <td>0.000000</td>\n",
       "    </tr>\n",
       "    <tr>\n",
       "      <th>25%</th>\n",
       "      <td>0.614000</td>\n",
       "      <td>0.087800</td>\n",
       "      <td>99.004000</td>\n",
       "      <td>0.042200</td>\n",
       "      <td>0.011700</td>\n",
       "      <td>0.000000</td>\n",
       "      <td>4.000000</td>\n",
       "      <td>0.547000</td>\n",
       "      <td>4.000000</td>\n",
       "      <td>192918.000000</td>\n",
       "      <td>-6.112000</td>\n",
       "      <td>0.290000</td>\n",
       "      <td>0.000000</td>\n",
       "    </tr>\n",
       "    <tr>\n",
       "      <th>50%</th>\n",
       "      <td>0.734000</td>\n",
       "      <td>0.118000</td>\n",
       "      <td>117.971000</td>\n",
       "      <td>0.059400</td>\n",
       "      <td>0.042000</td>\n",
       "      <td>0.000000</td>\n",
       "      <td>4.000000</td>\n",
       "      <td>0.644000</td>\n",
       "      <td>6.000000</td>\n",
       "      <td>214740.000000</td>\n",
       "      <td>-5.344000</td>\n",
       "      <td>0.438000</td>\n",
       "      <td>0.000000</td>\n",
       "    </tr>\n",
       "    <tr>\n",
       "      <th>75%</th>\n",
       "      <td>0.824000</td>\n",
       "      <td>0.211000</td>\n",
       "      <td>130.998000</td>\n",
       "      <td>0.103000</td>\n",
       "      <td>0.220000</td>\n",
       "      <td>0.000047</td>\n",
       "      <td>4.000000</td>\n",
       "      <td>0.757000</td>\n",
       "      <td>9.000000</td>\n",
       "      <td>234057.000000</td>\n",
       "      <td>-4.100000</td>\n",
       "      <td>0.654000</td>\n",
       "      <td>1.000000</td>\n",
       "    </tr>\n",
       "    <tr>\n",
       "      <th>max</th>\n",
       "      <td>0.972000</td>\n",
       "      <td>0.611000</td>\n",
       "      <td>212.117000</td>\n",
       "      <td>0.390000</td>\n",
       "      <td>0.904000</td>\n",
       "      <td>0.191000</td>\n",
       "      <td>5.000000</td>\n",
       "      <td>0.978000</td>\n",
       "      <td>11.000000</td>\n",
       "      <td>299213.000000</td>\n",
       "      <td>-1.100000</td>\n",
       "      <td>0.964000</td>\n",
       "      <td>1.000000</td>\n",
       "    </tr>\n",
       "  </tbody>\n",
       "</table>\n",
       "</div>"
      ],
      "text/plain": [
       "           energy    liveness       tempo  speechiness  acousticness  \\\n",
       "count  101.000000  101.000000  101.000000   101.000000    101.000000   \n",
       "mean     0.710772    0.167692  120.021723     0.094241      0.144698   \n",
       "std      0.157274    0.121040   29.982783     0.084433      0.194245   \n",
       "min      0.172000    0.035300   49.452000     0.025300      0.000235   \n",
       "25%      0.614000    0.087800   99.004000     0.042200      0.011700   \n",
       "50%      0.734000    0.118000  117.971000     0.059400      0.042000   \n",
       "75%      0.824000    0.211000  130.998000     0.103000      0.220000   \n",
       "max      0.972000    0.611000  212.117000     0.390000      0.904000   \n",
       "\n",
       "       instrumentalness  time_signature  danceability         key  \\\n",
       "count        101.000000      101.000000    101.000000  101.000000   \n",
       "mean           0.004914        3.930693      0.637805    6.267327   \n",
       "std            0.024640        0.324266      0.155866    3.390844   \n",
       "min            0.000000        3.000000      0.099300    0.000000   \n",
       "25%            0.000000        4.000000      0.547000    4.000000   \n",
       "50%            0.000000        4.000000      0.644000    6.000000   \n",
       "75%            0.000047        4.000000      0.757000    9.000000   \n",
       "max            0.191000        5.000000      0.978000   11.000000   \n",
       "\n",
       "         duration_ms    loudness     valence        mode  \n",
       "count     101.000000  101.000000  101.000000  101.000000  \n",
       "mean   213490.534653   -5.348040    0.479755    0.326733  \n",
       "std     31653.372960    1.801177    0.235665    0.471358  \n",
       "min    138592.000000  -11.618000    0.039900    0.000000  \n",
       "25%    192918.000000   -6.112000    0.290000    0.000000  \n",
       "50%    214740.000000   -5.344000    0.438000    0.000000  \n",
       "75%    234057.000000   -4.100000    0.654000    1.000000  \n",
       "max    299213.000000   -1.100000    0.964000    1.000000  "
      ]
     },
     "execution_count": 5,
     "metadata": {},
     "output_type": "execute_result"
    }
   ],
   "source": [
    "df.describe()"
   ]
  },
  {
   "cell_type": "code",
   "execution_count": 6,
   "metadata": {},
   "outputs": [
    {
     "name": "stdout",
     "output_type": "stream",
     "text": [
      "<class 'pandas.core.frame.DataFrame'>\n",
      "RangeIndex: 101 entries, 0 to 100\n",
      "Data columns (total 15 columns):\n",
      "energy              101 non-null float64\n",
      "liveness            101 non-null float64\n",
      "tempo               101 non-null float64\n",
      "speechiness         101 non-null float64\n",
      "acousticness        101 non-null float64\n",
      "instrumentalness    101 non-null float64\n",
      "time_signature      101 non-null int64\n",
      "danceability        101 non-null float64\n",
      "key                 101 non-null int64\n",
      "duration_ms         101 non-null int64\n",
      "loudness            101 non-null float64\n",
      "valence             101 non-null float64\n",
      "mode                101 non-null int64\n",
      "type                101 non-null object\n",
      "uri                 101 non-null object\n",
      "dtypes: float64(9), int64(4), object(2)\n",
      "memory usage: 11.9+ KB\n"
     ]
    }
   ],
   "source": [
    "df.info()"
   ]
  },
  {
   "cell_type": "code",
   "execution_count": 96,
   "metadata": {},
   "outputs": [
    {
     "data": {
      "text/plain": [
       "<matplotlib.axes._subplots.AxesSubplot at 0x180312f588>"
      ]
     },
     "execution_count": 96,
     "metadata": {},
     "output_type": "execute_result"
    },
    {
     "data": {
      "image/png": "[encoded data removed]",
      "text/plain": [
       "<Figure size 432x288 with 1 Axes>"
      ]
     },
     "metadata": {
      "needs_background": "light"
     },
     "output_type": "display_data"
    }
   ],
   "source": [
    "df.query('energy >= 0.7')['key'].value_counts().plot(kind='bar')"
   ]
  },
  {
   "cell_type": "code",
   "execution_count": 77,
   "metadata": {},
   "outputs": [
    {
     "data": {
      "text/plain": [
       "<matplotlib.axes._subplots.AxesSubplot at 0x1801ac9908>"
      ]
     },
     "execution_count": 77,
     "metadata": {},
     "output_type": "execute_result"
    },
    {
     "data": {
      "image/png": "[encoded data removed]",
      "text/plain": [
       "<Figure size 432x288 with 1 Axes>"
      ]
     },
     "metadata": {
      "needs_background": "light"
     },
     "output_type": "display_data"
    }
   ],
   "source": [
    "df.query('energy <= 0.7')['key'].value_counts().plot(kind='bar')"
   ]
  },
  {
   "cell_type": "code",
   "execution_count": 78,
   "metadata": {},
   "outputs": [
    {
     "data": {
      "text/plain": [
       "<matplotlib.axes._subplots.AxesSubplot at 0x1801b4d828>"
      ]
     },
     "execution_count": 78,
     "metadata": {},
     "output_type": "execute_result"
    },
    {
     "data": {
      "image/png": "[encoded data removed]",
      "text/plain": [
       "<Figure size 432x288 with 1 Axes>"
      ]
     },
     "metadata": {
      "needs_background": "light"
     },
     "output_type": "display_data"
    }
   ],
   "source": [
    "df.query('tempo >= 120')['key'].value_counts().plot(kind='bar')"
   ]
  },
  {
   "cell_type": "code",
   "execution_count": 79,
   "metadata": {},
   "outputs": [
    {
     "data": {
      "text/plain": [
       "<matplotlib.axes._subplots.AxesSubplot at 0x1801b257f0>"
      ]
     },
     "execution_count": 79,
     "metadata": {},
     "output_type": "execute_result"
    },
    {
     "data": {
      "image/png": "[encoded data removed]",
      "text/plain": [
       "<Figure size 432x288 with 1 Axes>"
      ]
     },
     "metadata": {
      "needs_background": "light"
     },
     "output_type": "display_data"
    }
   ],
   "source": [
    "df.query('tempo <= 120')['key'].value_counts().plot(kind='bar')"
   ]
  },
  {
   "cell_type": "code",
   "execution_count": 80,
   "metadata": {},
   "outputs": [
    {
     "data": {
      "text/plain": [
       "<matplotlib.axes._subplots.AxesSubplot at 0x1801c44860>"
      ]
     },
     "execution_count": 80,
     "metadata": {},
     "output_type": "execute_result"
    },
    {
     "data": {
      "image/png": "[encoded data removed]",
      "text/plain": [
       "<Figure size 432x288 with 1 Axes>"
      ]
     },
     "metadata": {
      "needs_background": "light"
     },
     "output_type": "display_data"
    }
   ],
   "source": [
    "df.query('speechiness >= 0.09')['key'].value_counts().plot(kind='bar')"
   ]
  },
  {
   "cell_type": "code",
   "execution_count": 81,
   "metadata": {},
   "outputs": [
    {
     "data": {
      "text/plain": [
       "<matplotlib.axes._subplots.AxesSubplot at 0x1801cc07f0>"
      ]
     },
     "execution_count": 81,
     "metadata": {},
     "output_type": "execute_result"
    },
    {
     "data": {
      "image/png": "[encoded data removed]",
      "text/plain": [
       "<Figure size 432x288 with 1 Axes>"
      ]
     },
     "metadata": {
      "needs_background": "light"
     },
     "output_type": "display_data"
    }
   ],
   "source": [
    "df.query('speechiness <= 0.09')['key'].value_counts().plot(kind='bar')"
   ]
  },
  {
   "cell_type": "code",
   "execution_count": 82,
   "metadata": {},
   "outputs": [
    {
     "data": {
      "text/plain": [
       "<matplotlib.axes._subplots.AxesSubplot at 0x1801d39c18>"
      ]
     },
     "execution_count": 82,
     "metadata": {},
     "output_type": "execute_result"
    },
    {
     "data": {
      "image/png": "[encoded data removed]",
      "text/plain": [
       "<Figure size 432x288 with 1 Axes>"
      ]
     },
     "metadata": {
      "needs_background": "light"
     },
     "output_type": "display_data"
    }
   ],
   "source": [
    "df.query('acousticness >= 0.14')['key'].value_counts().plot(kind=\"bar\")"
   ]
  },
  {
   "cell_type": "code",
   "execution_count": 83,
   "metadata": {},
   "outputs": [
    {
     "data": {
      "text/plain": [
       "<matplotlib.axes._subplots.AxesSubplot at 0x1801db4f60>"
      ]
     },
     "execution_count": 83,
     "metadata": {},
     "output_type": "execute_result"
    },
    {
     "data": {
      "image/png": "[encoded data removed]",
      "text/plain": [
       "<Figure size 432x288 with 1 Axes>"
      ]
     },
     "metadata": {
      "needs_background": "light"
     },
     "output_type": "display_data"
    }
   ],
   "source": [
    "df.query('acousticness <= 0.14')['key'].value_counts().plot(kind=\"bar\")"
   ]
  },
  {
   "cell_type": "code",
   "execution_count": 84,
   "metadata": {},
   "outputs": [
    {
     "data": {
      "text/plain": [
       "<matplotlib.axes._subplots.AxesSubplot at 0x1801e33278>"
      ]
     },
     "execution_count": 84,
     "metadata": {},
     "output_type": "execute_result"
    },
    {
     "data": {
      "image/png": "[encoded data removed]",
      "text/plain": [
       "<Figure size 432x288 with 1 Axes>"
      ]
     },
     "metadata": {
      "needs_background": "light"
     },
     "output_type": "display_data"
    }
   ],
   "source": [
    "df.query('instrumentalness >= 0.004')['key'].value_counts().plot(kind=\"bar\")"
   ]
  },
  {
   "cell_type": "code",
   "execution_count": 85,
   "metadata": {},
   "outputs": [
    {
     "data": {
      "text/plain": [
       "<matplotlib.axes._subplots.AxesSubplot at 0x1802e667f0>"
      ]
     },
     "execution_count": 85,
     "metadata": {},
     "output_type": "execute_result"
    },
    {
     "data": {
      "image/png": "[encoded data removed]",
      "text/plain": [
       "<Figure size 432x288 with 1 Axes>"
      ]
     },
     "metadata": {
      "needs_background": "light"
     },
     "output_type": "display_data"
    }
   ],
   "source": [
    "df.query('instrumentalness <= 0.004')['key'].value_counts().plot(kind=\"bar\")"
   ]
  },
  {
   "cell_type": "code",
   "execution_count": 86,
   "metadata": {},
   "outputs": [
    {
     "data": {
      "text/plain": [
       "<matplotlib.axes._subplots.AxesSubplot at 0x1802efc5f8>"
      ]
     },
     "execution_count": 86,
     "metadata": {},
     "output_type": "execute_result"
    },
    {
     "data": {
      "image/png": "[encoded data removed]",
      "text/plain": [
       "<Figure size 432x288 with 1 Axes>"
      ]
     },
     "metadata": {
      "needs_background": "light"
     },
     "output_type": "display_data"
    }
   ],
   "source": [
    "df.query('time_signature >= 3.93')['key'].value_counts().plot(kind=\"bar\")"
   ]
  },
  {
   "cell_type": "code",
   "execution_count": 87,
   "metadata": {},
   "outputs": [
    {
     "data": {
      "text/plain": [
       "<matplotlib.axes._subplots.AxesSubplot at 0x1802f6f6d8>"
      ]
     },
     "execution_count": 87,
     "metadata": {},
     "output_type": "execute_result"
    },
    {
     "data": {
      "image/png": "[encoded data removed]",
      "text/plain": [
       "<Figure size 432x288 with 1 Axes>"
      ]
     },
     "metadata": {
      "needs_background": "light"
     },
     "output_type": "display_data"
    }
   ],
   "source": [
    "df.query('time_signature <= 3.93')['key'].value_counts().plot(kind=\"bar\")"
   ]
  },
  {
   "cell_type": "code",
   "execution_count": 97,
   "metadata": {},
   "outputs": [
    {
     "data": {
      "text/plain": [
       "<matplotlib.axes._subplots.AxesSubplot at 0x18031abef0>"
      ]
     },
     "execution_count": 97,
     "metadata": {},
     "output_type": "execute_result"
    },
    {
     "data": {
      "image/png": "[encoded data removed]",
      "text/plain": [
       "<Figure size 432x288 with 1 Axes>"
      ]
     },
     "metadata": {
      "needs_background": "light"
     },
     "output_type": "display_data"
    }
   ],
   "source": [
    "df.query('danceability >= 0.63')['key'].value_counts().plot(kind=\"bar\")"
   ]
  },
  {
   "cell_type": "code",
   "execution_count": 98,
   "metadata": {},
   "outputs": [
    {
     "data": {
      "text/plain": [
       "<matplotlib.axes._subplots.AxesSubplot at 0x1803227f60>"
      ]
     },
     "execution_count": 98,
     "metadata": {},
     "output_type": "execute_result"
    },
    {
     "data": {
      "image/png": "[encoded data removed]",
      "text/plain": [
       "<Figure size 432x288 with 1 Axes>"
      ]
     },
     "metadata": {
      "needs_background": "light"
     },
     "output_type": "display_data"
    }
   ],
   "source": [
    "df.query('danceability <= 0.63')['key'].value_counts().plot(kind=\"bar\")"
   ]
  },
  {
   "cell_type": "code",
   "execution_count": 99,
   "metadata": {},
   "outputs": [
    {
     "data": {
      "text/plain": [
       "<matplotlib.axes._subplots.AxesSubplot at 0x18032a6b38>"
      ]
     },
     "execution_count": 99,
     "metadata": {},
     "output_type": "execute_result"
    },
    {
     "data": {
      "image/png": "[encoded data removed]",
      "text/plain": [
       "<Figure size 432x288 with 1 Axes>"
      ]
     },
     "metadata": {
      "needs_background": "light"
     },
     "output_type": "display_data"
    }
   ],
   "source": [
    "df.query('duration_ms >= 213490')['key'].value_counts().plot(kind=\"bar\")"
   ]
  },
  {
   "cell_type": "code",
   "execution_count": 100,
   "metadata": {},
   "outputs": [
    {
     "data": {
      "text/plain": [
       "<matplotlib.axes._subplots.AxesSubplot at 0x180332def0>"
      ]
     },
     "execution_count": 100,
     "metadata": {},
     "output_type": "execute_result"
    },
    {
     "data": {
      "image/png": "[encoded data removed]",
      "text/plain": [
       "<Figure size 432x288 with 1 Axes>"
      ]
     },
     "metadata": {
      "needs_background": "light"
     },
     "output_type": "display_data"
    }
   ],
   "source": [
    "df.query('duration_ms <= 213490')['key'].value_counts().plot(kind=\"bar\")"
   ]
  },
  {
   "cell_type": "code",
   "execution_count": 101,
   "metadata": {},
   "outputs": [
    {
     "data": {
      "text/plain": [
       "<matplotlib.axes._subplots.AxesSubplot at 0x1803001e48>"
      ]
     },
     "execution_count": 101,
     "metadata": {},
     "output_type": "execute_result"
    },
    {
     "data": {
      "image/png": "[encoded data removed]",
      "text/plain": [
       "<Figure size 432x288 with 1 Axes>"
      ]
     },
     "metadata": {
      "needs_background": "light"
     },
     "output_type": "display_data"
    }
   ],
   "source": [
    "df.query('loudness >= -5.34')['key'].value_counts().plot(kind=\"bar\")"
   ]
  },
  {
   "cell_type": "code",
   "execution_count": 102,
   "metadata": {},
   "outputs": [
    {
     "data": {
      "text/plain": [
       "<matplotlib.axes._subplots.AxesSubplot at 0x1803392a58>"
      ]
     },
     "execution_count": 102,
     "metadata": {},
     "output_type": "execute_result"
    },
    {
     "data": {
      "image/png": "[encoded data removed]",
      "text/plain": [
       "<Figure size 432x288 with 1 Axes>"
      ]
     },
     "metadata": {
      "needs_background": "light"
     },
     "output_type": "display_data"
    }
   ],
   "source": [
    "df.query('loudness <= -5.34')['key'].value_counts().plot(kind=\"bar\")"
   ]
  },
  {
   "cell_type": "code",
   "execution_count": 103,
   "metadata": {},
   "outputs": [
    {
     "data": {
      "text/plain": [
       "<matplotlib.axes._subplots.AxesSubplot at 0x180340deb8>"
      ]
     },
     "execution_count": 103,
     "metadata": {},
     "output_type": "execute_result"
    },
    {
     "data": {
      "image/png": "[encoded data removed]",
      "text/plain": [
       "<Figure size 432x288 with 1 Axes>"
      ]
     },
     "metadata": {
      "needs_background": "light"
     },
     "output_type": "display_data"
    }
   ],
   "source": [
    "df.query('valence >= 0.47')['key'].value_counts().plot(kind=\"bar\")"
   ]
  },
  {
   "cell_type": "code",
   "execution_count": 104,
   "metadata": {},
   "outputs": [
    {
     "data": {
      "text/plain": [
       "<matplotlib.axes._subplots.AxesSubplot at 0x1803485ac8>"
      ]
     },
     "execution_count": 104,
     "metadata": {},
     "output_type": "execute_result"
    },
    {
     "data": {
      "image/png": "[encoded data removed]",
      "text/plain": [
       "<Figure size 432x288 with 1 Axes>"
      ]
     },
     "metadata": {
      "needs_background": "light"
     },
     "output_type": "display_data"
    }
   ],
   "source": [
    "df.query('valence <= 0.47')['key'].value_counts().plot(kind=\"bar\")"
   ]
  },
  {
   "cell_type": "code",
   "execution_count": null,
   "metadata": {},
   "outputs": [],
   "source": []
  }
 ],
 "metadata": {
  "kernelspec": {
   "display_name": "Python 3",
   "language": "python",
   "name": "python3"
  },
  "language_info": {
   "codemirror_mode": {
    "name": "ipython",
    "version": 3
   },
   "file_extension": ".py",
   "mimetype": "text/x-python",
   "name": "python",
   "nbconvert_exporter": "python",
   "pygments_lexer": "ipython3",
   "version": "3.7.1"
  }
 },
 "nbformat": 4,
 "nbformat_minor": 2
}
